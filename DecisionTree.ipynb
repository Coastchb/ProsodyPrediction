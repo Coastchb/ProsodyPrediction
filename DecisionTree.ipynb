{
 "cells": [
  {
   "cell_type": "code",
   "execution_count": 8,
   "metadata": {},
   "outputs": [
    {
     "name": "stdout",
     "output_type": "stream",
     "text": [
      "0.7016666666666667\n"
     ]
    }
   ],
   "source": [
    "import csv\n",
    "from sklearn import tree\n",
    "from sklearn.feature_extraction import DictVectorizer  \n",
    "data=[]\n",
    "target=[]\n",
    "dataTrain=[]\n",
    "targetTrain=[]\n",
    "dataTest=[]\n",
    "targetTest=[]\n",
    "right=0\n",
    "#用到的自变量有；前后3个单词的词性POS[-3~3]，前后一个单词的词长word[-1~1]，\n",
    "#当前句子的单词数WORD_NUM,当前句子的句长（包括标点）SENTENCE_LENGTH，前一个韵律边界的类型BTYPE[-1]\n",
    "headers=['POS[-3]','POS[-2]','POS[-1]','POS[0]','POS[1]','POS[2]','POS[3]','WLEN[-1]','WLEN[0]','WLEN[1]',\n",
    "         'WORD_NUM','SENTENCE_LENGTH','BTYPE[-1]']\n",
    "csv_reader = csv.reader(open('data.csv', encoding='utf-8'))\n",
    "#数据载入，data是自变量部分，target是因变量，即边界类型\n",
    "for i,row in enumerate(csv_reader):\n",
    "      target.append(row.pop())\n",
    "      rowDic = {}  \n",
    "      for p in range(0,len(row)):  \n",
    "        rowDic[headers[p]] = row[p]  \n",
    "      data.append(rowDic)\n",
    "\n",
    "#tree.DecisionTreeClassifier()这个函数要求输入数据为int或float，所以将源数据data部分转化成数字，target不用转化\n",
    "vec = DictVectorizer()  \n",
    "dummyX = vec.fit_transform(data) .toarray()  \n",
    "\n",
    "#生成树，取前4000个数据作为训练集\n",
    "clf = tree.DecisionTreeClassifier()\n",
    "clf = clf.fit(dummyX[0:4000,:], target[0:4000])\n",
    "\n",
    "#将树输出到OUT.pdf文件中    \n",
    "import pydotplus \n",
    "dot_data = tree.export_graphviz(clf, feature_names=vec.get_feature_names(),out_file=None) \n",
    "graph = pydotplus.graph_from_dot_data(dot_data) \n",
    "graph.write_pdf(\"OUT.pdf\")\n",
    "\n",
    "#利用生成的树进行预测，测试集为后row4000-4600的数据\n",
    "re=clf.predict(dummyX[4000:4600,:])\n",
    "\n",
    "if len(re)==600:\n",
    "    for a in range(0, len(re)):\n",
    "        if re[a]==target[4000+a]:\n",
    "            right=right+1\n",
    "#输出正确率            \n",
    "ratio=right/600\n",
    "print(ratio)\n"
   ]
  }
 ],
 "metadata": {
  "kernelspec": {
   "display_name": "Python 3",
   "language": "python",
   "name": "python3"
  },
  "language_info": {
   "codemirror_mode": {
    "name": "ipython",
    "version": 3
   },
   "file_extension": ".py",
   "mimetype": "text/x-python",
   "name": "python",
   "nbconvert_exporter": "python",
   "pygments_lexer": "ipython3",
   "version": "3.6.1"
  }
 },
 "nbformat": 4,
 "nbformat_minor": 2
}
