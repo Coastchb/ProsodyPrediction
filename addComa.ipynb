{
 "cells": [
  {
   "cell_type": "code",
   "execution_count": 15,
   "metadata": {},
   "outputs": [],
   "source": [
    "import csv\n",
    "fr=open('datawith,-temp.csv', encoding='utf-8')\n",
    "csv_reader = csv.reader(fr)\n",
    "fw=open('datawithcoma-temp.csv',\"w\",newline ='')\n",
    "csv_writer = csv.writer(fw)\n",
    "#数据载入，data是自变量部分，target是因变量，即边界类型\n",
    "for i,row in enumerate(csv_reader):\n",
    "    csv_writer.writerow([row[0],row[2],row[3]])\n",
    "    cur = row[1]\n",
    "    if cur == '.'or cur == '!'or cur == '?':\n",
    "        csv_writer.writerow([cur,cur,\"B0\"])\n",
    "fw.close()\n",
    "fr.close()"
   ]
  }
 ],
 "metadata": {
  "kernelspec": {
   "display_name": "Python 3",
   "language": "python",
   "name": "python3"
  },
  "language_info": {
   "codemirror_mode": {
    "name": "ipython",
    "version": 3
   },
   "file_extension": ".py",
   "mimetype": "text/x-python",
   "name": "python",
   "nbconvert_exporter": "python",
   "pygments_lexer": "ipython3",
   "version": "3.6.1"
  }
 },
 "nbformat": 4,
 "nbformat_minor": 2
}
