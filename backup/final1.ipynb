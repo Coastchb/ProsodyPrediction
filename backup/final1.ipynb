{
 "cells": [
  {
   "cell_type": "code",
   "execution_count": 110,
   "metadata": {},
   "outputs": [
    {
     "ename": "IndentationError",
     "evalue": "expected an indented block (<ipython-input-110-9eba57252c3c>, line 18)",
     "output_type": "error",
     "traceback": [
      "\u001b[1;36m  File \u001b[1;32m\"<ipython-input-110-9eba57252c3c>\"\u001b[1;36m, line \u001b[1;32m18\u001b[0m\n\u001b[1;33m    time.sleep(random.randrange(3,4))\u001b[0m\n\u001b[1;37m       ^\u001b[0m\n\u001b[1;31mIndentationError\u001b[0m\u001b[1;31m:\u001b[0m expected an indented block\n"
     ]
    }
   ],
   "source": [
    "import requests\n",
    "from bs4 import BeautifulSoup\n",
    "import pandas as pd\n",
    "import json\n",
    "import random\n",
    "import time\n",
    "\n",
    "titles=[]\n",
    "companys=[]\n",
    "places=[]\n",
    "min_salarys=[]\n",
    "max_salarys=[]\n",
    "CompanyTypes=[]\n",
    "experiences=[]\n",
    "degrees=[]\n",
    "\n",
    "for page in range(1,20):\n",
    "    time.sleep(random.randrange(3,4))\n",
    "    url=\"http://search.51job.com/list/200000,000000,0000,00,9,99,java,2,%d.html?lang=c&stype=1&postchannel=0000&workyear=99&cotype=99&degreefrom=99&jobterm=99&companysize=99&lonlat=0%%2C0&radius=-1&ord_field=0&confirmdate=9&fromType=&dibiaoid=0&address=&line=&specialarea=00&from=&welfare=\"%page\n",
    "    resp=requests.get(url,timeout=15)\n",
    "    soup= BeautifulSoup(resp.text,\"lxml\")\n",
    "    url_list=[a [\"href\"] for a in soup.select(\".t1 a\")]\n",
    "    for url_de in url_list:\n",
    "        time.sleep(random.randrange(3,4))\n",
    "        resp_de=requests.get(url_de,timeout=15)\n",
    "        resp_de.encoding = 'gb2312'\n",
    "        soup_de=BeautifulSoup(resp_de.text,\"lxml\")\n",
    "        try:    \n",
    "            title=soup_de.select(\".cn h1\")[0].text\n",
    "        except:\n",
    "            title=None\n",
    "        try:    \n",
    "            company=soup_de.select(\".cn p\")[0].text.replace('\\n','')\n",
    "        except:\n",
    "            company=None\n",
    "        try:    \n",
    "            place=soup_de.select(\".cn .lname\")[0].text\n",
    "        except:\n",
    "            place=None\n",
    "        try:    \n",
    "            min_salary=soup_de.select(\".cn strong\")[0].text.split('-')[0]\n",
    "        except:\n",
    "            min_salary=None\n",
    "        try:    \n",
    "            max_salary=soup_de.select(\".cn strong\")[0].text.split('-')[1].split('万')[0]\n",
    "        except:\n",
    "            max_salary=None\n",
    "        try:    \n",
    "            CompanyType=soup_de.select(\".cn p\")[1].text.split('公司')[0].replace('\\r\\n','').replace('\\t','')\n",
    "        except:\n",
    "            CompanyType=None\n",
    "        try:    \n",
    "            experience=soup_de.select(\".t1 span\")[0].text\n",
    "        except:\n",
    "            experience=None\n",
    "        try:    \n",
    "            degree=soup_de.select(\".t1 span\")[1].text\n",
    "        except:\n",
    "            degree=None\n",
    "        titles.append(title)\n",
    "        companys.append(company)\n",
    "        places.append(place)\n",
    "        min_salarys.append(min_salary)\n",
    "        max_salarys.append(max_salary)\n",
    "        CompanyTypes.append(CompanyType)\n",
    "        experiences.append(experience)\n",
    "        degrees.append(degree)\n",
    "\n",
    "\n",
    "\n",
    "\n",
    "df=pd.DataFrame(dict(title=titles,company=companys,place=places,CompanyType=CompanyTypes,experience=experiences,\n",
    "                     degree=degrees,min_salary=min_salarys,max_salary=max_salarys))\n",
    "df.to_csv(r\"d:\\jobs.csv\",index=False)"
   ]
  },
  {
   "cell_type": "code",
   "execution_count": 108,
   "metadata": {
    "collapsed": true
   },
   "outputs": [],
   "source": [
    "import time"
   ]
  },
  {
   "cell_type": "code",
   "execution_count": 39,
   "metadata": {},
   "outputs": [
    {
     "data": {
      "text/plain": [
       "['http://jobs.51job.com/xian/94741460.html?s=01&t=0',\n",
       " 'http://jobs.51job.com/xian-gxjs/95021873.html?s=01&t=0',\n",
       " 'http://jobs.51job.com/xian/94985966.html?s=01&t=0',\n",
       " 'http://jobs.51job.com/xian/71628976.html?s=01&t=0',\n",
       " 'http://jobs.51job.com/xian-gxjs/71358601.html?s=01&t=0',\n",
       " 'http://jobs.51job.com/xian/91772223.html?s=01&t=0',\n",
       " 'http://jobs.51job.com/xian/88940227.html?s=01&t=0',\n",
       " 'http://jobs.51job.com/xian/95004782.html?s=01&t=0',\n",
       " 'http://jobs.51job.com/xian-wyq/66917518.html?s=01&t=0',\n",
       " 'http://jobs.51job.com/xian/94031392.html?s=01&t=0',\n",
       " 'http://jobs.51job.com/xian-jjjs/93241641.html?s=01&t=0',\n",
       " 'http://jobs.51job.com/xian-blq/89525069.html?s=01&t=0',\n",
       " 'http://jobs.51job.com/xian/94988450.html?s=01&t=0',\n",
       " 'http://jobs.51job.com/xian/79810372.html?s=01&t=0',\n",
       " 'http://jobs.51job.com/xian/83936366.html?s=01&t=0',\n",
       " 'http://jobs.51job.com/xian/91531338.html?s=01&t=0',\n",
       " 'http://jobs.51job.com/xian-ytq/91603926.html?s=01&t=0',\n",
       " 'http://jobs.51job.com/xianyang/89834608.html?s=01&t=0',\n",
       " 'http://jobs.51job.com/xian/65725404.html?s=01&t=0',\n",
       " 'http://jobs.51job.com/xian-ytq/70576699.html?s=01&t=0',\n",
       " 'http://jobs.51job.com/xian-ytq/94894213.html?s=01&t=0',\n",
       " 'http://jobs.51job.com/xian/85294974.html?s=01&t=0',\n",
       " 'http://jobs.51job.com/xian-gxjs/94957137.html?s=01&t=0',\n",
       " 'http://jobs.51job.com/xian-blq/92612755.html?s=01&t=0',\n",
       " 'http://jobs.51job.com/xian/94962179.html?s=01&t=0',\n",
       " 'http://jobs.51job.com/xian-gxjs/83258774.html?s=01&t=0',\n",
       " 'http://jobs.51job.com/xian-gxjs/93332336.html?s=01&t=0',\n",
       " 'http://jobs.51job.com/xian-gxjs/91112210.html?s=01&t=0',\n",
       " 'http://jobs.51job.com/xian/75775001.html?s=01&t=0',\n",
       " 'http://jobs.51job.com/xian-ytq/93242070.html?s=01&t=0',\n",
       " 'http://jobs.51job.com/xian-gxjs/93516836.html?s=01&t=0',\n",
       " 'http://jobs.51job.com/xian-ytq/92577988.html?s=01&t=0',\n",
       " 'http://jobs.51job.com/xian-gxjs/91978457.html?s=01&t=0',\n",
       " 'http://jobs.51job.com/xian/84968663.html?s=01&t=0',\n",
       " 'http://jobs.51job.com/xian/83190525.html?s=01&t=0',\n",
       " 'http://jobs.51job.com/xian/79850152.html?s=01&t=0',\n",
       " 'http://jobs.51job.com/xian-ytq/51777439.html?s=01&t=0',\n",
       " 'http://jobs.51job.com/xian/91685087.html?s=01&t=0',\n",
       " 'http://jobs.51job.com/xian/92608858.html?s=01&t=0',\n",
       " 'http://jobs.51job.com/shanghai-pdxq/94923625.html?s=01&t=0',\n",
       " 'http://jobs.51job.com/xian-hx/88125186.html?s=01&t=0',\n",
       " 'http://jobs.51job.com/xian/94909122.html?s=01&t=0',\n",
       " 'http://jobs.51job.com/xian/86070754.html?s=01&t=0',\n",
       " 'http://jobs.51job.com/xian-ytq/76690970.html?s=01&t=0',\n",
       " 'http://jobs.51job.com/xian/94776623.html?s=01&t=0',\n",
       " 'http://jobs.51job.com/xian-gxjs/84130526.html?s=01&t=0',\n",
       " 'http://jobs.51job.com/xian/81961259.html?s=01&t=0',\n",
       " 'http://jobs.51job.com/xian/94061440.html?s=01&t=0',\n",
       " 'http://jobs.51job.com/xian-gxjs/85917348.html?s=01&t=0',\n",
       " 'http://jobs.51job.com/xian/93357831.html?s=01&t=0']"
      ]
     },
     "execution_count": 39,
     "metadata": {},
     "output_type": "execute_result"
    }
   ],
   "source": [
    "from bs4 import BeautifulSoup\n",
    "soup= BeautifulSoup(resp.text,\"lxml\")\n",
    "url_list=[a [\"href\"] for a in soup.select(\".t1 a\")]\n",
    "url_list"
   ]
  },
  {
   "cell_type": "code",
   "execution_count": 84,
   "metadata": {},
   "outputs": [],
   "source": [
    "url_de=url_list[0]\n",
    "resp_de=requests.get(url_de)\n",
    "resp_de.encoding = 'gb2312'\n",
    "soup_de=BeautifulSoup(resp_de.text,\"lxml\")"
   ]
  },
  {
   "cell_type": "code",
   "execution_count": 105,
   "metadata": {},
   "outputs": [
    {
     "data": {
      "text/plain": [
       "'本科'"
      ]
     },
     "execution_count": 105,
     "metadata": {},
     "output_type": "execute_result"
    }
   ],
   "source": [
    "title=soup_de.select(\".cn h1\")[0].text\n",
    "company=soup_de.select(\".cn p\")[0].text.replace('\\n','')\n",
    "place=soup_de.select(\".cn .lname\")[0].text\n",
    "min_salary=soup_de.select(\".cn strong\")[0].text.split('-')[0]\n",
    "max_salary=soup_de.select(\".cn strong\")[0].text.split('-')[1].split('万')[0]\n",
    "CompanyType=soup_de.select(\".cn p\")[1].text.split('公司')[0].replace('\\r\\n','').replace('\\t','')\n",
    "experience=soup_de.select(\".t1 span\")[0].text\n",
    "degree=soup_de.select(\".t1 span\")[1].text"
   ]
  },
  {
   "cell_type": "code",
   "execution_count": 11,
   "metadata": {
    "collapsed": true
   },
   "outputs": [],
   "source": [
    "import pandas as pd\n",
    "import json"
   ]
  },
  {
   "cell_type": "code",
   "execution_count": 14,
   "metadata": {},
   "outputs": [
    {
     "data": {
      "text/html": [
       "<div>\n",
       "<style>\n",
       "    .dataframe thead tr:only-child th {\n",
       "        text-align: right;\n",
       "    }\n",
       "\n",
       "    .dataframe thead th {\n",
       "        text-align: left;\n",
       "    }\n",
       "\n",
       "    .dataframe tbody tr th {\n",
       "        vertical-align: top;\n",
       "    }\n",
       "</style>\n",
       "<table border=\"1\" class=\"dataframe\">\n",
       "  <thead>\n",
       "    <tr style=\"text-align: right;\">\n",
       "      <th></th>\n",
       "      <th>name</th>\n",
       "      <th>scan</th>\n",
       "    </tr>\n",
       "  </thead>\n",
       "  <tbody>\n",
       "    <tr>\n",
       "      <th>0</th>\n",
       "      <td>1</td>\n",
       "      <td>2712660人浏览</td>\n",
       "    </tr>\n",
       "    <tr>\n",
       "      <th>1</th>\n",
       "      <td>2</td>\n",
       "      <td>352人想看</td>\n",
       "    </tr>\n",
       "  </tbody>\n",
       "</table>\n",
       "</div>"
      ],
      "text/plain": [
       "  name        scan\n",
       "0    1  2712660人浏览\n",
       "1    2      352人想看"
      ]
     },
     "execution_count": 14,
     "metadata": {},
     "output_type": "execute_result"
    }
   ],
   "source": [
    "scans=[]\n",
    "likes=[]\n",
    "names=[]\n",
    "scans.append(scan)\n",
    "scans.append(like)\n",
    "names.append('1')\n",
    "names.append('2')\n",
    "df=pd.DataFrame(dict(name=names,scan=scans))\n",
    "df"
   ]
  }
 ],
 "metadata": {
  "kernelspec": {
   "display_name": "Python 3",
   "language": "python",
   "name": "python3"
  },
  "language_info": {
   "codemirror_mode": {
    "name": "ipython",
    "version": 3
   },
   "file_extension": ".py",
   "mimetype": "text/x-python",
   "name": "python",
   "nbconvert_exporter": "python",
   "pygments_lexer": "ipython3",
   "version": "3.6.1"
  }
 },
 "nbformat": 4,
 "nbformat_minor": 2
}
