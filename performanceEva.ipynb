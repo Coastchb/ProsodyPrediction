{
 "cells": [
  {
   "cell_type": "code",
   "execution_count": 12,
   "metadata": {},
   "outputs": [
    {
     "name": "stdout",
     "output_type": "stream",
     "text": [
      "classify_report : \n",
      "              precision    recall  f1-score   support\n",
      "\n",
      "          0       0.81      0.89      0.85     16518\n",
      "          1       0.37      0.27      0.31      2247\n",
      "          2       0.44      0.32      0.37      3392\n",
      "\n",
      "avg / total       0.71      0.74      0.72     22157\n",
      "\n",
      "confusion_matrix : \n",
      " [[14717   723  1078]\n",
      " [ 1355   615   277]\n",
      " [ 1991   320  1081]]\n"
     ]
    }
   ],
   "source": [
    "import csv\n",
    "from sklearn import metrics\n",
    "y_pre=[]\n",
    "y_true=[]\n",
    "csv_reader = csv.reader(open('output.csv', encoding='utf-8'))\n",
    "#数据载入，data是自变量部分，target是因变量，即边界类型\n",
    "for i,row in enumerate(csv_reader):\n",
    "    if i%2==0:\n",
    "        cur = row[2]\n",
    "        if cur == 'B0':\n",
    "            y_true.append('0')\n",
    "        elif cur == 'B1':\n",
    "            y_true.append('1')\n",
    "        else:\n",
    "            y_true.append('2')\n",
    "    else:\n",
    "        cur = row[1]\n",
    "        if cur == 'B0':\n",
    "            y_pre.append('0')\n",
    "        elif cur == 'B1':\n",
    "            y_pre.append('1')\n",
    "        else:\n",
    "            y_pre.append('2')\n",
    "\n",
    "classify_report = metrics.classification_report(y_true, y_pre)\n",
    "confusion_matrix = metrics.confusion_matrix(y_true, y_pre)\n",
    "\n",
    "print('classify_report : \\n', classify_report)\n",
    "print('confusion_matrix : \\n', confusion_matrix)\n"
   ]
  }
 ],
 "metadata": {
  "kernelspec": {
   "display_name": "Python 3",
   "language": "python",
   "name": "python3"
  },
  "language_info": {
   "codemirror_mode": {
    "name": "ipython",
    "version": 3
   },
   "file_extension": ".py",
   "mimetype": "text/x-python",
   "name": "python",
   "nbconvert_exporter": "python",
   "pygments_lexer": "ipython3",
   "version": "3.6.1"
  }
 },
 "nbformat": 4,
 "nbformat_minor": 2
}
